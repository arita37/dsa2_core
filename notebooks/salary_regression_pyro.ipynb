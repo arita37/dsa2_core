{
 "cells": [
  {
   "cell_type": "code",
   "execution_count": 4,
   "metadata": {},
   "outputs": [],
   "source": [
    "%load_ext autoreload\n",
    "%autoreload\n",
    "%matplotlib inline\n",
    "%config IPCompleter.greedy=True\n",
    "import warnings,copy\n",
    "warnings.filterwarnings('ignore')\n",
    "\n",
    "\n",
    "#python -m ipykernel install --user --name py36 --display-name py36b\n",
    "# λ python -m ipykernel install --user --name py36 --display-name py36b\n",
    "#Installed kernelspec py36 in C:\\Users\\dellbook\\AppData\\Roaming\\jupyter\\kernels\\py36                                                   \n",
    "\n",
    "\n",
    "\n",
    "\n",
    "\n"
   ]
  },
  {
   "cell_type": "code",
   "execution_count": 5,
   "metadata": {},
   "outputs": [
    {
     "name": "stdout",
     "output_type": "stream",
     "text": [
      "imported <module 'lightgbm' from 'D:\\\\_devs\\\\Python01\\\\ana3\\\\envs\\\\py36\\\\lib\\\\site-packages\\\\lightgbm\\\\__init__.py'>\n",
      "os.getcwd D:\\_devs\\Python01\\gitdev\\dsa2\n"
     ]
    }
   ],
   "source": [
    "from allimport import *\n",
    "\n",
    "\n",
    "from source import util_feature"
   ]
  },
  {
   "cell_type": "code",
   "execution_count": 6,
   "metadata": {},
   "outputs": [
    {
     "name": "stdout",
     "output_type": "stream",
     "text": [
      "D:\\_devs\\Python01\\gitdev\\dsa2\n"
     ]
    }
   ],
   "source": [
    "###### Import custom packages ###########################\n",
    "print( os.getcwd())\n",
    "\n"
   ]
  },
  {
   "cell_type": "code",
   "execution_count": 8,
   "metadata": {},
   "outputs": [
    {
     "name": "stdout",
     "output_type": "stream",
     "text": [
      "D:/_devs/Python01/gitdev/dsa2/data/\n"
     ]
    }
   ],
   "source": [
    "root      = os.getcwd()\n",
    "dir_data  = os.path.abspath( root + \"/data/\" ) + \"/\"\n",
    "dir_data  = dir_data.replace(\"\\\\\", \"/\")\n",
    "\n",
    "print(dir_data)\n"
   ]
  },
  {
   "cell_type": "code",
   "execution_count": 10,
   "metadata": {},
   "outputs": [
    {
     "name": "stdout",
     "output_type": "stream",
     "text": [
      "<module 'os' from 'D:\\\\_devs\\\\Python01\\\\ana3\\\\envs\\\\py36\\\\lib\\\\os.py'> <module 'sys' (built-in)>\n"
     ]
    }
   ],
   "source": [
    "import os, sys\n",
    "print(os, sys)"
   ]
  },
  {
   "cell_type": "code",
   "execution_count": null,
   "metadata": {},
   "outputs": [],
   "source": [
    "\n",
    "\n"
   ]
  },
  {
   "cell_type": "code",
   "execution_count": 8,
   "metadata": {},
   "outputs": [
    {
     "name": "stdout",
     "output_type": "stream",
     "text": [
      "(600000, 435) (400000, 435)\n"
     ]
    }
   ],
   "source": []
  },
  {
   "cell_type": "markdown",
   "metadata": {},
   "source": [
    "# Model Fitting check\n",
    "\n",
    "\n"
   ]
  },
  {
   "cell_type": "code",
   "execution_count": 15,
   "metadata": {},
   "outputs": [
    {
     "name": "stdout",
     "output_type": "stream",
     "text": [
      "\n",
      "D:\\_devs\\Python01\\gitdev\\dsa2>conda.bat activate py36 \n",
      "D:/_devs/Python01/gitdev/dsa2/\n",
      "os.getcwd D:\\_devs\\Python01\\gitdev\\dsa2\n",
      "  ('D:/_devs/Python01/gitdev/dsa2//data/output/a01_bayesian2/',) \n",
      "  ('#### load input column family  ###################################################',) \n",
      "  ({'coly': 'salary', 'colid': 'jobId', 'colcat': ['companyId', 'jobType', 'degree', 'major', 'industry'], 'colnum': ['yearsExperience', 'milesFromMetropolis'], 'coltext': [], 'coldate': [], 'colcross': ['jobType', 'degree', 'major', 'industry', 'yearsExperience', 'milesFromMetropolis']},) \n",
      "  ('#### Model loading  ##############################################################',) \n",
      "  ('D:\\\\_devs\\\\Python01\\\\gitdev\\\\dsa2',) \n",
      "  ('#### Preprocess  #################################################################',) \n",
      "  ({'coly': 'salary', 'colid': 'jobId', 'colcat': ['companyId', 'jobType', 'degree', 'major', 'industry'], 'colnum': ['yearsExperience', 'milesFromMetropolis'], 'coltext': [], 'coldate': [], 'colcross': ['jobType', 'degree', 'major', 'industry', 'yearsExperience', 'milesFromMetropolis']},) \n",
      "  (['yearsExperience', 'milesFromMetropolis', 'companyId', 'jobType', 'degree', 'major', 'industry'],) \n",
      "  (yearsExperience        float32\n",
      "milesFromMetropolis    float32\n",
      "companyId               object\n",
      "jobType                 object\n",
      "degree                  object\n",
      "major                   object\n",
      "industry                object\n",
      "dtype: object,) \n",
      "yearsExperience\n",
      "                    yearsExperience                         \n",
      "                                min       mean    size   max\n",
      "yearsExperience_bin                                         \n",
      "0                               0.0   1.001715  120148   2.0\n",
      "1                               3.0   3.499040   80226   4.0\n",
      "2                               5.0   6.000283  120154   7.0\n",
      "3                               8.0   8.500728   80353   9.0\n",
      "4                              10.0  10.995270  119447  12.0\n",
      "5                              13.0  13.500007   79653  14.0\n",
      "6                              15.0  15.497263   80185  16.0\n",
      "7                              17.0  17.998234  120020  19.0\n",
      "8                              20.0  20.498564   79747  21.0\n",
      "9                              22.0  22.997276  120062  24.0\n",
      "milesFromMetropolis\n",
      "                        milesFromMetropolis                         \n",
      "                                        min       mean    size   max\n",
      "milesFromMetropolis_bin                                             \n",
      "0                                       0.0   4.480163   99989   9.0\n",
      "1                                      10.0  14.498260   99958  19.0\n",
      "2                                      20.0  24.510389   99579  29.0\n",
      "3                                      30.0  34.506729  100030  39.0\n",
      "4                                      40.0  44.499554   99885  49.0\n",
      "5                                      50.0  54.500584  100089  59.0\n",
      "6                                      60.0  64.490776  100423  69.0\n",
      "7                                      70.0  74.493767   99667  79.0\n",
      "8                                      80.0  84.494499   99695  89.0\n",
      "9                                      90.0  94.509018  100680  99.0\n",
      "  (OrderedDict([('yearsExperience', [-0.0001, 2.4, 4.8, 7.199999999999999, 9.6, 12.0, 14.399999999999999, 16.8, 19.2, 21.599999999999998, 24.0]), ('milesFromMetropolis', [-0.0001, 9.9, 19.8, 29.700000000000003, 39.6, 49.5, 59.400000000000006, 69.3, 79.2, 89.10000000000001, 99.0])]),) \n",
      "  (['yearsExperience_bin', 'milesFromMetropolis_bin'],) \n",
      "yearsExperience_bin 10 (999995, 2)\n",
      "milesFromMetropolis_bin 10 (999995, 11)\n",
      "  (['yearsExperience_bin_0', 'yearsExperience_bin_1', 'yearsExperience_bin_2', 'yearsExperience_bin_3', 'yearsExperience_bin_4', 'yearsExperience_bin_5', 'yearsExperience_bin_6', 'yearsExperience_bin_7', 'yearsExperience_bin_8', 'yearsExperience_bin_9', 'milesFromMetropolis_bin_0', 'milesFromMetropolis_bin_1', 'milesFromMetropolis_bin_2', 'milesFromMetropolis_bin_3', 'milesFromMetropolis_bin_4', 'milesFromMetropolis_bin_5', 'milesFromMetropolis_bin_6', 'milesFromMetropolis_bin_7', 'milesFromMetropolis_bin_8', 'milesFromMetropolis_bin_9'],) \n",
      "  (companyId    object\n",
      "jobType      object\n",
      "degree       object\n",
      "major        object\n",
      "industry     object\n",
      "dtype: object, {'cat_map': {'companyId': {'COMP0': 0, 'COMP1': 1, 'COMP10': 2, 'COMP11': 3, 'COMP12': 4, 'COMP13': 5, 'COMP14': 6, 'COMP15': 7, 'COMP16': 8, 'COMP17': 9, 'COMP18': 10, 'COMP19': 11, 'COMP2': 12, 'COMP20': 13, 'COMP21': 14, 'COMP22': 15, 'COMP23': 16, 'COMP24': 17, 'COMP25': 18, 'COMP26': 19, 'COMP27': 20, 'COMP28': 21, 'COMP29': 22, 'COMP3': 23, 'COMP30': 24, 'COMP31': 25, 'COMP32': 26, 'COMP33': 27, 'COMP34': 28, 'COMP35': 29, 'COMP36': 30, 'COMP37': 31, 'COMP38': 32, 'COMP39': 33, 'COMP4': 34, 'COMP40': 35, 'COMP41': 36, 'COMP42': 37, 'COMP43': 38, 'COMP44': 39, 'COMP45': 40, 'COMP46': 41, 'COMP47': 42, 'COMP48': 43, 'COMP49': 44, 'COMP5': 45, 'COMP50': 46, 'COMP51': 47, 'COMP52': 48, 'COMP53': 49, 'COMP54': 50, 'COMP55': 51, 'COMP56': 52, 'COMP57': 53, 'COMP58': 54, 'COMP59': 55, 'COMP6': 56, 'COMP60': 57, 'COMP61': 58, 'COMP62': 59, 'COMP7': 60, 'COMP8': 61, 'COMP9': 62}, 'jobType': {'CEO': 0, 'CFO': 1, 'CTO': 2, 'JANITOR': 3, 'JUNIOR': 4, 'MANAGER': 5, 'SENIOR': 6, 'VICE_PRESIDENT': 7}, 'degree': {'BACHELORS': 0, 'DOCTORAL': 1, 'HIGH_SCHOOL': 2, 'MASTERS': 3, 'NONE': 4}, 'major': {'BIOLOGY': 0, 'BUSINESS': 1, 'CHEMISTRY': 2, 'COMPSCI': 3, 'ENGINEERING': 4, 'LITERATURE': 5, 'MATH': 6, 'NONE': 7, 'PHYSICS': 8}, 'industry': {'AUTO': 0, 'EDUCATION': 1, 'FINANCE': 2, 'HEALTH': 3, 'OIL': 4, 'SERVICE': 5, 'WEB': 6}}, 'cat_map_inverse': {'companyId': {0: 'COMP0', 1: 'COMP1', 2: 'COMP10', 3: 'COMP11', 4: 'COMP12', 5: 'COMP13', 6: 'COMP14', 7: 'COMP15', 8: 'COMP16', 9: 'COMP17', 10: 'COMP18', 11: 'COMP19', 12: 'COMP2', 13: 'COMP20', 14: 'COMP21', 15: 'COMP22', 16: 'COMP23', 17: 'COMP24', 18: 'COMP25', 19: 'COMP26', 20: 'COMP27', 21: 'COMP28', 22: 'COMP29', 23: 'COMP3', 24: 'COMP30', 25: 'COMP31', 26: 'COMP32', 27: 'COMP33', 28: 'COMP34', 29: 'COMP35', 30: 'COMP36', 31: 'COMP37', 32: 'COMP38', 33: 'COMP39', 34: 'COMP4', 35: 'COMP40', 36: 'COMP41', 37: 'COMP42', 38: 'COMP43', 39: 'COMP44', 40: 'COMP45', 41: 'COMP46', 42: 'COMP47', 43: 'COMP48', 44: 'COMP49', 45: 'COMP5', 46: 'COMP50', 47: 'COMP51', 48: 'COMP52', 49: 'COMP53', 50: 'COMP54', 51: 'COMP55', 52: 'COMP56', 53: 'COMP57', 54: 'COMP58', 55: 'COMP59', 56: 'COMP6', 57: 'COMP60', 58: 'COMP61', 59: 'COMP62', 60: 'COMP7', 61: 'COMP8', 62: 'COMP9'}, 'jobType': {0: 'CEO', 1: 'CFO', 2: 'CTO', 3: 'JANITOR', 4: 'JUNIOR', 5: 'MANAGER', 6: 'SENIOR', 7: 'VICE_PRESIDENT'}, 'degree': {0: 'BACHELORS', 1: 'DOCTORAL', 2: 'HIGH_SCHOOL', 3: 'MASTERS', 4: 'NONE'}, 'major': {0: 'BIOLOGY', 1: 'BUSINESS', 2: 'CHEMISTRY', 3: 'COMPSCI', 4: 'ENGINEERING', 5: 'LITERATURE', 6: 'MATH', 7: 'NONE', 8: 'PHYSICS'}, 'industry': {0: 'AUTO', 1: 'EDUCATION', 2: 'FINANCE', 3: 'HEALTH', 4: 'OIL', 5: 'SERVICE', 6: 'WEB'}}}) \n",
      "companyId 63 (999995, 5)\n",
      "jobType 8 (999995, 67)\n",
      "degree 5 (999995, 74)\n",
      "major 9 (999995, 78)\n",
      "industry 7 (999995, 86)\n",
      "  (                  companyId_COMP0  ...  industry_WEB\n",
      "jobId                              ...              \n",
      "JOB1362684407687                0  ...             0\n",
      "JOB1362684407688                0  ...             1\n",
      "JOB1362684407689                0  ...             0\n",
      "JOB1362684407690                0  ...             0\n",
      "JOB1362684407691                0  ...             0\n",
      "\n",
      "[5 rows x 92 columns],) \n",
      "  (jobId                                 JOB1362684407687  JOB1362684407688\n",
      "jobType_CEO-degree_BACHELORS                         0                 0\n",
      "jobType_CEO-degree_DOCTORAL                          0                 0\n",
      "jobType_CEO-degree_HIGH_SCHOOL                       0                 1\n",
      "jobType_CEO-degree_MASTERS                           0                 0\n",
      "jobType_CEO-degree_NONE                              0                 0\n",
      "...                                                ...               ...\n",
      "major_NONE-milesFromMetropolis_bin_5                 0                 0\n",
      "major_NONE-milesFromMetropolis_bin_6                 0                 0\n",
      "major_NONE-milesFromMetropolis_bin_7                 0                 1\n",
      "major_NONE-milesFromMetropolis_bin_8                 0                 0\n",
      "major_NONE-milesFromMetropolis_bin_9                 0                 0\n",
      "\n",
      "[154 rows x 2 columns],) \n",
      "  ('D:/_devs/Python01/gitdev/dsa2//data/output/a01_bayesian2//pipeline/',) \n",
      "  ('D:/_devs/Python01/gitdev/dsa2//data/output/a01_bayesian2//pipeline//colid.pkl',) \n",
      "  ('D:/_devs/Python01/gitdev/dsa2//data/output/a01_bayesian2//pipeline//colid.pkl',) \n",
      "  ('D:/_devs/Python01/gitdev/dsa2//data/output/a01_bayesian2//pipeline//colnum.pkl',) \n",
      "  ('D:/_devs/Python01/gitdev/dsa2//data/output/a01_bayesian2//pipeline//colnum.pkl',) \n",
      "  ('D:/_devs/Python01/gitdev/dsa2//data/output/a01_bayesian2//pipeline//colnum_bin.pkl',) \n",
      "  ('D:/_devs/Python01/gitdev/dsa2//data/output/a01_bayesian2//pipeline//colnum_bin.pkl',) \n",
      "  ('D:/_devs/Python01/gitdev/dsa2//data/output/a01_bayesian2//pipeline//colnum_onehot.pkl',) \n",
      "  ('D:/_devs/Python01/gitdev/dsa2//data/output/a01_bayesian2//pipeline//colnum_onehot.pkl',) \n",
      "  ('D:/_devs/Python01/gitdev/dsa2//data/output/a01_bayesian2//pipeline//colnum_binmap.pkl',) \n",
      "  ('D:/_devs/Python01/gitdev/dsa2//data/output/a01_bayesian2//pipeline//colnum_binmap.pkl',) \n",
      "  ('D:/_devs/Python01/gitdev/dsa2//data/output/a01_bayesian2//pipeline//colcat.pkl',) \n",
      "  ('D:/_devs/Python01/gitdev/dsa2//data/output/a01_bayesian2//pipeline//colcat.pkl',) \n",
      "  ('D:/_devs/Python01/gitdev/dsa2//data/output/a01_bayesian2//pipeline//colcat_bin.pkl',) \n",
      "  ('D:/_devs/Python01/gitdev/dsa2//data/output/a01_bayesian2//pipeline//colcat_bin.pkl',) \n",
      "  ('D:/_devs/Python01/gitdev/dsa2//data/output/a01_bayesian2//pipeline//colcat_onehot.pkl',) \n",
      "  ('D:/_devs/Python01/gitdev/dsa2//data/output/a01_bayesian2//pipeline//colcat_onehot.pkl',) \n",
      "  ('D:/_devs/Python01/gitdev/dsa2//data/output/a01_bayesian2//pipeline//colcat_bin_map.pkl',) \n",
      "  ('D:/_devs/Python01/gitdev/dsa2//data/output/a01_bayesian2//pipeline//colcat_bin_map.pkl',) \n",
      "  ('D:/_devs/Python01/gitdev/dsa2//data/output/a01_bayesian2//pipeline//colcross_onehot.pkl',) \n",
      "  ('D:/_devs/Python01/gitdev/dsa2//data/output/a01_bayesian2//pipeline//colcross_onehot.pkl',) \n",
      "  ('D:/_devs/Python01/gitdev/dsa2//data/output/a01_bayesian2//pipeline//colcross_single.pkl',) \n",
      "  ('D:/_devs/Python01/gitdev/dsa2//data/output/a01_bayesian2//pipeline//colcross_single.pkl',) \n",
      "  ('D:/_devs/Python01/gitdev/dsa2//data/output/a01_bayesian2//pipeline//colcross_pair.pkl',) \n",
      "  ('D:/_devs/Python01/gitdev/dsa2//data/output/a01_bayesian2//pipeline//colcross_pair.pkl',) \n",
      "  ('D:/_devs/Python01/gitdev/dsa2//data/output/a01_bayesian2//pipeline//coly.pkl',) \n",
      "  ('D:/_devs/Python01/gitdev/dsa2//data/output/a01_bayesian2//pipeline//coly.pkl',) \n",
      "  ('D:/_devs/Python01/gitdev/dsa2//data/output/a01_bayesian2//pipeline//y_norm_fun.pkl',) \n",
      "  ('D:/_devs/Python01/gitdev/dsa2//data/output/a01_bayesian2//pipeline//y_norm_fun.pkl',) \n",
      "  ('y_norm.pkl',) \n",
      "  ('D:/_devs/Python01/gitdev/dsa2//data/output/a01_bayesian2//pipeline//y_norm.pkl',) \n",
      "  (['yearsExperience_bin_0', 'yearsExperience_bin_1', 'yearsExperience_bin_2', 'yearsExperience_bin_3', 'yearsExperience_bin_4', 'yearsExperience_bin_5', 'yearsExperience_bin_6', 'yearsExperience_bin_7', 'yearsExperience_bin_8', 'yearsExperience_bin_9', 'milesFromMetropolis_bin_0', 'milesFromMetropolis_bin_1', 'milesFromMetropolis_bin_2', 'milesFromMetropolis_bin_3', 'milesFromMetropolis_bin_4', 'milesFromMetropolis_bin_5', 'milesFromMetropolis_bin_6', 'milesFromMetropolis_bin_7', 'milesFromMetropolis_bin_8', 'milesFromMetropolis_bin_9', 'companyId_COMP0', 'companyId_COMP1', 'companyId_COMP10', 'companyId_COMP11', 'companyId_COMP12', 'companyId_COMP13', 'companyId_COMP14', 'companyId_COMP15', 'companyId_COMP16', 'companyId_COMP17', 'companyId_COMP18', 'companyId_COMP19', 'companyId_COMP2', 'companyId_COMP20', 'companyId_COMP21', 'companyId_COMP22', 'companyId_COMP23', 'companyId_COMP24', 'companyId_COMP25', 'companyId_COMP26', 'companyId_COMP27', 'companyId_COMP28', 'companyId_COMP29', 'companyId_COMP3', 'companyId_COMP30', 'companyId_COMP31', 'companyId_COMP32', 'companyId_COMP33', 'companyId_COMP34', 'companyId_COMP35', 'companyId_COMP36', 'companyId_COMP37', 'companyId_COMP38', 'companyId_COMP39', 'companyId_COMP4', 'companyId_COMP40', 'companyId_COMP41', 'companyId_COMP42', 'companyId_COMP43', 'companyId_COMP44', 'companyId_COMP45', 'companyId_COMP46', 'companyId_COMP47', 'companyId_COMP48', 'companyId_COMP49', 'companyId_COMP5', 'companyId_COMP50', 'companyId_COMP51', 'companyId_COMP52', 'companyId_COMP53', 'companyId_COMP54', 'companyId_COMP55', 'companyId_COMP56', 'companyId_COMP57', 'companyId_COMP58', 'companyId_COMP59', 'companyId_COMP6', 'companyId_COMP60', 'companyId_COMP61', 'companyId_COMP62', 'companyId_COMP7', 'companyId_COMP8', 'companyId_COMP9', 'jobType_CEO', 'jobType_CFO', 'jobType_CTO', 'jobType_JANITOR', 'jobType_JUNIOR', 'jobType_MANAGER', 'jobType_SENIOR', 'jobType_VICE_PRESIDENT', 'degree_BACHELORS', 'degree_DOCTORAL', 'degree_HIGH_SCHOOL', 'degree_MASTERS', 'degree_NONE', 'major_BIOLOGY', 'major_BUSINESS', 'major_CHEMISTRY', 'major_COMPSCI', 'major_ENGINEERING', 'major_LITERATURE', 'major_MATH', 'major_NONE', 'major_PHYSICS', 'industry_AUTO', 'industry_EDUCATION', 'industry_FINANCE', 'industry_HEALTH', 'industry_OIL', 'industry_SERVICE', 'industry_WEB'], 'salary') \n",
      "  ('######### Train model: ###########################################################',) \n",
      "  (\"{'model_pars': {'model_name': 'model_bayesian_pyro', 'model_path': 'D:/_devs/Python01/gitdev/dsa2//data/output/a01_bayesian2//model/', 'model_pars': {'input_width': 112}, 'post_process_fun': <function bayesian_pyro.<locals>.post_process_fun at 0x00000254B0C7D620>, 'pre_process_pars': {'y_norm_fun': <function bayesian_pyro.<locals>.pre_process_fun at 0x00000254B0C7D9D8>}}, 'compute_pars': {'compute_pars': {'n_iter': 1200, 'learning_rate': 0.01}, 'metric_list': ['root_mean_squared_error', 'mean_absolute_error', 'explained_variance_score', 'r2_score', 'median_absolute_error'], 'max_size': 1000000, 'num_samples': 300}, 'data_pars': {'cols_model_group': ['colnum_onehot', 'colcat_onehot'], 'cols_model': ['yearsExperience_bin_0', 'yearsExperience_bin_1', 'yearsExperience_bin_2', 'yearsExperience_bin_3', 'yearsExperience_bin_4', 'yearsExperience_bin_5', 'yearsExperience_bin_6', 'yearsExperience_bin_7', 'yearsExperience_bin_8', 'yearsExperience_bin_9', 'milesFromMetropolis_bin_0', 'milesFromMet\",) \n",
      "  ((999995, 276),) \n",
      "  ('#### Model Instance ##########################################################',) \n",
      "  (<module 'models.model_bayesian_pyro' from 'D:\\\\_devs\\\\Python01\\\\gitdev\\\\dsa2\\\\source\\\\models\\\\model_bayesian_pyro.py'>,) \n",
      "[iteration 0001] loss: 3.1215\n",
      "[iteration 0101] loss: 1.8524\n",
      "[iteration 0201] loss: 0.5514\n",
      "[iteration 0301] loss: -0.3958\n",
      "[iteration 0401] loss: -0.9654\n",
      "[iteration 0501] loss: -0.9421\n",
      "[iteration 0601] loss: -1.2595\n",
      "[iteration 0701] loss: -1.3704\n",
      "[iteration 0801] loss: -1.3879\n",
      "[iteration 0901] loss: -1.3673\n",
      "[iteration 1001] loss: -1.4105\n",
      "[iteration 1101] loss: -1.3896\n",
      "  ('#### Metrics #################################################################',) \n",
      "stored in model.pred_summary\n",
      "  ({'metrics_test':                 metric_name  metric_val  n_sample\n",
      "0   root_mean_squared_error   19.999664    199999\n",
      "1       mean_absolute_error   16.036634    199999\n",
      "2  explained_variance_score    0.739040    199999\n",
      "3                  r2_score    0.732525    199999\n",
      "4     median_absolute_error   13.628578    199999},) \n",
      "  ('saving model, dfX, columns', 'D:/_devs/Python01/gitdev/dsa2//data/output/a01_bayesian2//model/') \n",
      "  ({'model_name': 'model_bayesian_pyro', 'model_path': 'D:/_devs/Python01/gitdev/dsa2//data/output/a01_bayesian2//model/', 'model_pars': {'input_width': 112}, 'post_process_fun': <function bayesian_pyro.<locals>.post_process_fun at 0x00000254B0C7D620>, 'pre_process_pars': {'y_norm_fun': <function bayesian_pyro.<locals>.pre_process_fun at 0x00000254B0C7D9D8>}}, {'compute_pars': {'n_iter': 1200, 'learning_rate': 0.01}, 'metric_list': ['root_mean_squared_error', 'mean_absolute_error', 'explained_variance_score', 'r2_score', 'median_absolute_error'], 'max_size': 1000000, 'num_samples': 300}) \n",
      "  ('check re-loaded', {'model_name': 'model_bayesian_pyro', 'model_path': 'D:/_devs/Python01/gitdev/dsa2//data/output/a01_bayesian2//model/', 'model_pars': {'input_width': 112}, 'post_process_fun': <function bayesian_pyro.<locals>.post_process_fun at 0x00000254B3D9FD08>, 'pre_process_pars': {'y_norm_fun': <function bayesian_pyro.<locals>.pre_process_fun at 0x00000254B3D9FC80>}}) \n",
      "  ('colsX',) \n",
      "  ('coly',) \n",
      "  ('######### export #################################',) \n",
      "  ('######### finish #################################',) \n",
      "\n",
      "D:\\_devs\\Python01\\gitdev\\dsa2>conda.bat activate py36 \n",
      "D:/_devs/Python01/gitdev/dsa2/\n",
      "os.getcwd D:\\_devs\\Python01\\gitdev\\dsa2\n",
      "  ('D:/_devs/Python01/gitdev/dsa2//data/output/a01_bayesian2/',) \n",
      "  ('#### load input column family  ###################################################',) \n",
      "  ({'coly': 'salary', 'colid': 'jobId', 'colcat': ['companyId', 'jobType', 'degree', 'major', 'industry'], 'colnum': ['yearsExperience', 'milesFromMetropolis'], 'coltext': [], 'coldate': [], 'colcross': ['jobType', 'degree', 'major', 'industry', 'yearsExperience', 'milesFromMetropolis']},) \n",
      "  ('#### Model loading  ##############################################################',) \n",
      "  ('D:\\\\_devs\\\\Python01\\\\gitdev\\\\dsa2',) \n",
      "  ('#### Preprocess  #################################################################',) \n",
      "  ({'coly': 'salary', 'colid': 'jobId', 'colcat': ['companyId', 'jobType', 'degree', 'major', 'industry'], 'colnum': ['yearsExperience', 'milesFromMetropolis'], 'coltext': [], 'coldate': [], 'colcross': ['jobType', 'degree', 'major', 'industry', 'yearsExperience', 'milesFromMetropolis']},) \n",
      "  (['yearsExperience', 'milesFromMetropolis', 'companyId', 'jobType', 'degree', 'major', 'industry'],) \n",
      "  (yearsExperience        float32\n",
      "milesFromMetropolis    float32\n",
      "companyId               object\n",
      "jobType                 object\n",
      "degree                  object\n",
      "major                   object\n",
      "industry                object\n",
      "dtype: object,) \n",
      "yearsExperience\n",
      "                    yearsExperience                         \n",
      "                                min       mean   max    size\n",
      "yearsExperience_bin                                         \n",
      "0                               0.0   1.001715   2.0  120148\n",
      "1                               3.0   3.499040   4.0   80226\n",
      "2                               5.0   6.000283   7.0  120154\n",
      "3                               8.0   8.500728   9.0   80353\n",
      "4                              10.0  10.995270  12.0  119447\n",
      "5                              13.0  13.500007  14.0   79653\n",
      "6                              15.0  15.497263  16.0   80185\n",
      "7                              17.0  17.998234  19.0  120020\n",
      "8                              20.0  20.498564  21.0   79747\n",
      "9                              22.0  22.997276  24.0  120062\n",
      "milesFromMetropolis\n",
      "                        milesFromMetropolis                         \n",
      "                                        min       mean   max    size\n",
      "milesFromMetropolis_bin                                             \n",
      "0                                       0.0   4.480163   9.0   99989\n",
      "1                                      10.0  14.498260  19.0   99958\n",
      "2                                      20.0  24.510389  29.0   99579\n",
      "3                                      30.0  34.506729  39.0  100030\n",
      "4                                      40.0  44.499554  49.0   99885\n",
      "5                                      50.0  54.500584  59.0  100089\n",
      "6                                      60.0  64.490776  69.0  100423\n",
      "7                                      70.0  74.493767  79.0   99667\n",
      "8                                      80.0  84.494499  89.0   99695\n",
      "9                                      90.0  94.509018  99.0  100680\n",
      "  (OrderedDict([('yearsExperience', [-0.0001, 2.4, 4.8, 7.199999999999999, 9.6, 12.0, 14.399999999999999, 16.8, 19.2, 21.599999999999998, 24.0]), ('milesFromMetropolis', [-0.0001, 9.9, 19.8, 29.700000000000003, 39.6, 49.5, 59.400000000000006, 69.3, 79.2, 89.10000000000001, 99.0])]),) \n",
      "  (['yearsExperience_bin', 'milesFromMetropolis_bin'],) \n",
      "yearsExperience_bin 10 (999995, 2)\n",
      "milesFromMetropolis_bin 10 (999995, 11)\n",
      "  (['yearsExperience_bin_0', 'yearsExperience_bin_1', 'yearsExperience_bin_2', 'yearsExperience_bin_3', 'yearsExperience_bin_4', 'yearsExperience_bin_5', 'yearsExperience_bin_6', 'yearsExperience_bin_7', 'yearsExperience_bin_8', 'yearsExperience_bin_9', 'milesFromMetropolis_bin_0', 'milesFromMetropolis_bin_1', 'milesFromMetropolis_bin_2', 'milesFromMetropolis_bin_3', 'milesFromMetropolis_bin_4', 'milesFromMetropolis_bin_5', 'milesFromMetropolis_bin_6', 'milesFromMetropolis_bin_7', 'milesFromMetropolis_bin_8', 'milesFromMetropolis_bin_9'],) \n",
      "  (companyId    object\n",
      "jobType      object\n",
      "degree       object\n",
      "major        object\n",
      "industry     object\n",
      "dtype: object, {'cat_map': {'companyId': {'COMP0': 0, 'COMP1': 1, 'COMP10': 2, 'COMP11': 3, 'COMP12': 4, 'COMP13': 5, 'COMP14': 6, 'COMP15': 7, 'COMP16': 8, 'COMP17': 9, 'COMP18': 10, 'COMP19': 11, 'COMP2': 12, 'COMP20': 13, 'COMP21': 14, 'COMP22': 15, 'COMP23': 16, 'COMP24': 17, 'COMP25': 18, 'COMP26': 19, 'COMP27': 20, 'COMP28': 21, 'COMP29': 22, 'COMP3': 23, 'COMP30': 24, 'COMP31': 25, 'COMP32': 26, 'COMP33': 27, 'COMP34': 28, 'COMP35': 29, 'COMP36': 30, 'COMP37': 31, 'COMP38': 32, 'COMP39': 33, 'COMP4': 34, 'COMP40': 35, 'COMP41': 36, 'COMP42': 37, 'COMP43': 38, 'COMP44': 39, 'COMP45': 40, 'COMP46': 41, 'COMP47': 42, 'COMP48': 43, 'COMP49': 44, 'COMP5': 45, 'COMP50': 46, 'COMP51': 47, 'COMP52': 48, 'COMP53': 49, 'COMP54': 50, 'COMP55': 51, 'COMP56': 52, 'COMP57': 53, 'COMP58': 54, 'COMP59': 55, 'COMP6': 56, 'COMP60': 57, 'COMP61': 58, 'COMP62': 59, 'COMP7': 60, 'COMP8': 61, 'COMP9': 62}, 'jobType': {'CEO': 0, 'CFO': 1, 'CTO': 2, 'JANITOR': 3, 'JUNIOR': 4, 'MANAGER': 5, 'SENIOR': 6, 'VICE_PRESIDENT': 7}, 'degree': {'BACHELORS': 0, 'DOCTORAL': 1, 'HIGH_SCHOOL': 2, 'MASTERS': 3, 'NONE': 4}, 'major': {'BIOLOGY': 0, 'BUSINESS': 1, 'CHEMISTRY': 2, 'COMPSCI': 3, 'ENGINEERING': 4, 'LITERATURE': 5, 'MATH': 6, 'NONE': 7, 'PHYSICS': 8}, 'industry': {'AUTO': 0, 'EDUCATION': 1, 'FINANCE': 2, 'HEALTH': 3, 'OIL': 4, 'SERVICE': 5, 'WEB': 6}}, 'cat_map_inverse': {'companyId': {0: 'COMP0', 1: 'COMP1', 2: 'COMP10', 3: 'COMP11', 4: 'COMP12', 5: 'COMP13', 6: 'COMP14', 7: 'COMP15', 8: 'COMP16', 9: 'COMP17', 10: 'COMP18', 11: 'COMP19', 12: 'COMP2', 13: 'COMP20', 14: 'COMP21', 15: 'COMP22', 16: 'COMP23', 17: 'COMP24', 18: 'COMP25', 19: 'COMP26', 20: 'COMP27', 21: 'COMP28', 22: 'COMP29', 23: 'COMP3', 24: 'COMP30', 25: 'COMP31', 26: 'COMP32', 27: 'COMP33', 28: 'COMP34', 29: 'COMP35', 30: 'COMP36', 31: 'COMP37', 32: 'COMP38', 33: 'COMP39', 34: 'COMP4', 35: 'COMP40', 36: 'COMP41', 37: 'COMP42', 38: 'COMP43', 39: 'COMP44', 40: 'COMP45', 41: 'COMP46', 42: 'COMP47', 43: 'COMP48', 44: 'COMP49', 45: 'COMP5', 46: 'COMP50', 47: 'COMP51', 48: 'COMP52', 49: 'COMP53', 50: 'COMP54', 51: 'COMP55', 52: 'COMP56', 53: 'COMP57', 54: 'COMP58', 55: 'COMP59', 56: 'COMP6', 57: 'COMP60', 58: 'COMP61', 59: 'COMP62', 60: 'COMP7', 61: 'COMP8', 62: 'COMP9'}, 'jobType': {0: 'CEO', 1: 'CFO', 2: 'CTO', 3: 'JANITOR', 4: 'JUNIOR', 5: 'MANAGER', 6: 'SENIOR', 7: 'VICE_PRESIDENT'}, 'degree': {0: 'BACHELORS', 1: 'DOCTORAL', 2: 'HIGH_SCHOOL', 3: 'MASTERS', 4: 'NONE'}, 'major': {0: 'BIOLOGY', 1: 'BUSINESS', 2: 'CHEMISTRY', 3: 'COMPSCI', 4: 'ENGINEERING', 5: 'LITERATURE', 6: 'MATH', 7: 'NONE', 8: 'PHYSICS'}, 'industry': {0: 'AUTO', 1: 'EDUCATION', 2: 'FINANCE', 3: 'HEALTH', 4: 'OIL', 5: 'SERVICE', 6: 'WEB'}}}) \n",
      "companyId 63 (999995, 5)\n",
      "jobType 8 (999995, 67)\n",
      "degree 5 (999995, 74)\n",
      "major 9 (999995, 78)\n",
      "industry 7 (999995, 86)\n",
      "  (                  companyId_COMP0  ...  industry_WEB\n",
      "jobId                              ...              \n",
      "JOB1362684407687                0  ...             0\n",
      "JOB1362684407688                0  ...             1\n",
      "JOB1362684407689                0  ...             0\n",
      "JOB1362684407690                0  ...             0\n",
      "JOB1362684407691                0  ...             0\n",
      "\n",
      "[5 rows x 92 columns],) \n",
      "  (jobId                                 JOB1362684407687  JOB1362684407688\n",
      "jobType_CEO-degree_BACHELORS                         0                 0\n",
      "jobType_CEO-degree_DOCTORAL                          0                 0\n",
      "jobType_CEO-degree_HIGH_SCHOOL                       0                 1\n",
      "jobType_CEO-degree_MASTERS                           0                 0\n",
      "jobType_CEO-degree_NONE                              0                 0\n",
      "...                                                ...               ...\n",
      "major_NONE-milesFromMetropolis_bin_5                 0                 0\n",
      "major_NONE-milesFromMetropolis_bin_6                 0                 0\n",
      "major_NONE-milesFromMetropolis_bin_7                 0                 1\n",
      "major_NONE-milesFromMetropolis_bin_8                 0                 0\n",
      "major_NONE-milesFromMetropolis_bin_9                 0                 0\n",
      "\n",
      "[154 rows x 2 columns],) \n",
      "  ('D:/_devs/Python01/gitdev/dsa2//data/output/a01_bayesian2//pipeline/',) \n",
      "  ('D:/_devs/Python01/gitdev/dsa2//data/output/a01_bayesian2//pipeline//colid.pkl',) \n",
      "  ('D:/_devs/Python01/gitdev/dsa2//data/output/a01_bayesian2//pipeline//colid.pkl',) \n",
      "  ('D:/_devs/Python01/gitdev/dsa2//data/output/a01_bayesian2//pipeline//colnum.pkl',) \n",
      "  ('D:/_devs/Python01/gitdev/dsa2//data/output/a01_bayesian2//pipeline//colnum.pkl',) \n",
      "  ('D:/_devs/Python01/gitdev/dsa2//data/output/a01_bayesian2//pipeline//colnum_bin.pkl',) \n",
      "  ('D:/_devs/Python01/gitdev/dsa2//data/output/a01_bayesian2//pipeline//colnum_bin.pkl',) \n",
      "  ('D:/_devs/Python01/gitdev/dsa2//data/output/a01_bayesian2//pipeline//colnum_onehot.pkl',) \n",
      "  ('D:/_devs/Python01/gitdev/dsa2//data/output/a01_bayesian2//pipeline//colnum_onehot.pkl',) \n",
      "  ('D:/_devs/Python01/gitdev/dsa2//data/output/a01_bayesian2//pipeline//colnum_binmap.pkl',) \n",
      "  ('D:/_devs/Python01/gitdev/dsa2//data/output/a01_bayesian2//pipeline//colnum_binmap.pkl',) \n",
      "  ('D:/_devs/Python01/gitdev/dsa2//data/output/a01_bayesian2//pipeline//colcat.pkl',) \n",
      "  ('D:/_devs/Python01/gitdev/dsa2//data/output/a01_bayesian2//pipeline//colcat.pkl',) \n",
      "  ('D:/_devs/Python01/gitdev/dsa2//data/output/a01_bayesian2//pipeline//colcat_bin.pkl',) \n",
      "  ('D:/_devs/Python01/gitdev/dsa2//data/output/a01_bayesian2//pipeline//colcat_bin.pkl',) \n",
      "  ('D:/_devs/Python01/gitdev/dsa2//data/output/a01_bayesian2//pipeline//colcat_onehot.pkl',) \n",
      "  ('D:/_devs/Python01/gitdev/dsa2//data/output/a01_bayesian2//pipeline//colcat_onehot.pkl',) \n",
      "  ('D:/_devs/Python01/gitdev/dsa2//data/output/a01_bayesian2//pipeline//colcat_bin_map.pkl',) \n",
      "  ('D:/_devs/Python01/gitdev/dsa2//data/output/a01_bayesian2//pipeline//colcat_bin_map.pkl',) \n",
      "  ('D:/_devs/Python01/gitdev/dsa2//data/output/a01_bayesian2//pipeline//colcross_onehot.pkl',) \n",
      "  ('D:/_devs/Python01/gitdev/dsa2//data/output/a01_bayesian2//pipeline//colcross_onehot.pkl',) \n",
      "  ('D:/_devs/Python01/gitdev/dsa2//data/output/a01_bayesian2//pipeline//colcross_single.pkl',) \n",
      "  ('D:/_devs/Python01/gitdev/dsa2//data/output/a01_bayesian2//pipeline//colcross_single.pkl',) \n",
      "  ('D:/_devs/Python01/gitdev/dsa2//data/output/a01_bayesian2//pipeline//colcross_pair.pkl',) \n",
      "  ('D:/_devs/Python01/gitdev/dsa2//data/output/a01_bayesian2//pipeline//colcross_pair.pkl',) \n",
      "  ('D:/_devs/Python01/gitdev/dsa2//data/output/a01_bayesian2//pipeline//coly.pkl',) \n",
      "  ('D:/_devs/Python01/gitdev/dsa2//data/output/a01_bayesian2//pipeline//coly.pkl',) \n",
      "  ('D:/_devs/Python01/gitdev/dsa2//data/output/a01_bayesian2//pipeline//y_norm_fun.pkl',) \n",
      "  ('D:/_devs/Python01/gitdev/dsa2//data/output/a01_bayesian2//pipeline//y_norm_fun.pkl',) \n",
      "  ('y_norm.pkl',) \n",
      "  ('D:/_devs/Python01/gitdev/dsa2//data/output/a01_bayesian2//pipeline//y_norm.pkl',) \n",
      "  (['yearsExperience_bin_0', 'yearsExperience_bin_1', 'yearsExperience_bin_2', 'yearsExperience_bin_3', 'yearsExperience_bin_4', 'yearsExperience_bin_5', 'yearsExperience_bin_6', 'yearsExperience_bin_7', 'yearsExperience_bin_8', 'yearsExperience_bin_9', 'milesFromMetropolis_bin_0', 'milesFromMetropolis_bin_1', 'milesFromMetropolis_bin_2', 'milesFromMetropolis_bin_3', 'milesFromMetropolis_bin_4', 'milesFromMetropolis_bin_5', 'milesFromMetropolis_bin_6', 'milesFromMetropolis_bin_7', 'milesFromMetropolis_bin_8', 'milesFromMetropolis_bin_9', 'companyId_COMP0', 'companyId_COMP1', 'companyId_COMP10', 'companyId_COMP11', 'companyId_COMP12', 'companyId_COMP13', 'companyId_COMP14', 'companyId_COMP15', 'companyId_COMP16', 'companyId_COMP17', 'companyId_COMP18', 'companyId_COMP19', 'companyId_COMP2', 'companyId_COMP20', 'companyId_COMP21', 'companyId_COMP22', 'companyId_COMP23', 'companyId_COMP24', 'companyId_COMP25', 'companyId_COMP26', 'companyId_COMP27', 'companyId_COMP28', 'companyId_COMP29', 'companyId_COMP3', 'companyId_COMP30', 'companyId_COMP31', 'companyId_COMP32', 'companyId_COMP33', 'companyId_COMP34', 'companyId_COMP35', 'companyId_COMP36', 'companyId_COMP37', 'companyId_COMP38', 'companyId_COMP39', 'companyId_COMP4', 'companyId_COMP40', 'companyId_COMP41', 'companyId_COMP42', 'companyId_COMP43', 'companyId_COMP44', 'companyId_COMP45', 'companyId_COMP46', 'companyId_COMP47', 'companyId_COMP48', 'companyId_COMP49', 'companyId_COMP5', 'companyId_COMP50', 'companyId_COMP51', 'companyId_COMP52', 'companyId_COMP53', 'companyId_COMP54', 'companyId_COMP55', 'companyId_COMP56', 'companyId_COMP57', 'companyId_COMP58', 'companyId_COMP59', 'companyId_COMP6', 'companyId_COMP60', 'companyId_COMP61', 'companyId_COMP62', 'companyId_COMP7', 'companyId_COMP8', 'companyId_COMP9', 'jobType_CEO', 'jobType_CFO', 'jobType_CTO', 'jobType_JANITOR', 'jobType_JUNIOR', 'jobType_MANAGER', 'jobType_SENIOR', 'jobType_VICE_PRESIDENT', 'degree_BACHELORS', 'degree_DOCTORAL', 'degree_HIGH_SCHOOL', 'degree_MASTERS', 'degree_NONE', 'major_BIOLOGY', 'major_BUSINESS', 'major_CHEMISTRY', 'major_COMPSCI', 'major_ENGINEERING', 'major_LITERATURE', 'major_MATH', 'major_NONE', 'major_PHYSICS', 'industry_AUTO', 'industry_EDUCATION', 'industry_FINANCE', 'industry_HEALTH', 'industry_OIL', 'industry_SERVICE', 'industry_WEB'], 'salary') \n",
      "  ('######### Train model: ###########################################################',) \n",
      "  (\"{'model_pars': {'model_name': 'model_bayesian_pyro', 'model_path': 'D:/_devs/Python01/gitdev/dsa2//data/output/a01_bayesian2//model/', 'model_pars': {'input_width': 112}, 'post_process_fun': <function bayesian_pyro.<locals>.post_process_fun at 0x000001D38253D620>, 'pre_process_pars': {'y_norm_fun': <function bayesian_pyro.<locals>.pre_process_fun at 0x000001D38253D9D8>}}, 'compute_pars': {'compute_pars': {'n_iter': 1200, 'learning_rate': 0.01}, 'metric_list': ['root_mean_squared_error', 'mean_absolute_error', 'explained_variance_score', 'r2_score', 'median_absolute_error'], 'max_size': 1000000, 'num_samples': 300}, 'data_pars': {'cols_model_group': ['colnum_onehot', 'colcat_onehot'], 'cols_model': ['yearsExperience_bin_0', 'yearsExperience_bin_1', 'yearsExperience_bin_2', 'yearsExperience_bin_3', 'yearsExperience_bin_4', 'yearsExperience_bin_5', 'yearsExperience_bin_6', 'yearsExperience_bin_7', 'yearsExperience_bin_8', 'yearsExperience_bin_9', 'milesFromMetropolis_bin_0', 'milesFromMet\",) \n",
      "  ((999995, 276),) \n",
      "  ('#### Model Instance ##########################################################',) \n",
      "  (<module 'models.model_bayesian_pyro' from 'D:\\\\_devs\\\\Python01\\\\gitdev\\\\dsa2\\\\source\\\\models\\\\model_bayesian_pyro.py'>,) \n",
      "[iteration 0001] loss: 2.7869\n",
      "[iteration 0101] loss: 2.2596\n",
      "[iteration 0201] loss: 1.1893\n",
      "[iteration 0301] loss: 0.0994\n",
      "[iteration 0401] loss: -0.8439\n",
      "[iteration 0501] loss: -1.3263\n",
      "[iteration 0601] loss: -1.3767\n",
      "[iteration 0701] loss: -1.4057\n",
      "[iteration 0801] loss: -1.3901\n",
      "[iteration 0901] loss: -1.4173\n",
      "[iteration 1001] loss: -1.4131\n",
      "[iteration 1101] loss: -1.4226\n",
      "  ('#### Metrics #################################################################',) \n",
      "stored in model.pred_summary\n",
      "  ({'metrics_test':                 metric_name  metric_val  n_sample\n",
      "0   root_mean_squared_error   19.814517    199999\n",
      "1       mean_absolute_error   15.939063    199999\n",
      "2  explained_variance_score    0.739630    199999\n",
      "3                  r2_score    0.737693    199999\n",
      "4     median_absolute_error   13.663857    199999},) \n",
      "  ('saving model, dfX, columns', 'D:/_devs/Python01/gitdev/dsa2//data/output/a01_bayesian2//model/') \n",
      "  ({'model_name': 'model_bayesian_pyro', 'model_path': 'D:/_devs/Python01/gitdev/dsa2//data/output/a01_bayesian2//model/', 'model_pars': {'input_width': 112}, 'post_process_fun': <function bayesian_pyro.<locals>.post_process_fun at 0x000001D38253D620>, 'pre_process_pars': {'y_norm_fun': <function bayesian_pyro.<locals>.pre_process_fun at 0x000001D38253D9D8>}}, {'compute_pars': {'n_iter': 1200, 'learning_rate': 0.01}, 'metric_list': ['root_mean_squared_error', 'mean_absolute_error', 'explained_variance_score', 'r2_score', 'median_absolute_error'], 'max_size': 1000000, 'num_samples': 300}) \n",
      "  ('check re-loaded', {'model_name': 'model_bayesian_pyro', 'model_path': 'D:/_devs/Python01/gitdev/dsa2//data/output/a01_bayesian2//model/', 'model_pars': {'input_width': 112}, 'post_process_fun': <function bayesian_pyro.<locals>.post_process_fun at 0x000001D38565BD90>, 'pre_process_pars': {'y_norm_fun': <function bayesian_pyro.<locals>.pre_process_fun at 0x000001D38565BD08>}}) \n",
      "  ('colsX',) \n",
      "  ('coly',) \n",
      "  ('######### export #################################',) \n",
      "  ('######### finish #################################',) \n",
      "\n",
      "D:\\_devs\\Python01\\gitdev\\dsa2>conda.bat activate py36 \n",
      "D:/_devs/Python01/gitdev/dsa2/\n",
      "os.getcwd D:\\_devs\\Python01\\gitdev\\dsa2\n",
      "  ('D:/_devs/Python01/gitdev/dsa2//data/output/a01_bayesian2/',) \n",
      "  ('#### load input column family  ###################################################',) \n",
      "  ({'coly': 'salary', 'colid': 'jobId', 'colcat': ['companyId', 'jobType', 'degree', 'major', 'industry'], 'colnum': ['yearsExperience', 'milesFromMetropolis'], 'coltext': [], 'coldate': [], 'colcross': ['jobType', 'degree', 'major', 'industry', 'yearsExperience', 'milesFromMetropolis']},) \n",
      "  ('#### Model loading  ##############################################################',) \n",
      "  ('D:\\\\_devs\\\\Python01\\\\gitdev\\\\dsa2',) \n",
      "  ('#### Preprocess  #################################################################',) \n",
      "  ({'coly': 'salary', 'colid': 'jobId', 'colcat': ['companyId', 'jobType', 'degree', 'major', 'industry'], 'colnum': ['yearsExperience', 'milesFromMetropolis'], 'coltext': [], 'coldate': [], 'colcross': ['jobType', 'degree', 'major', 'industry', 'yearsExperience', 'milesFromMetropolis']},) \n",
      "  (['yearsExperience', 'milesFromMetropolis', 'companyId', 'jobType', 'degree', 'major', 'industry'],) \n",
      "  (yearsExperience        float32\n",
      "milesFromMetropolis    float32\n",
      "companyId               object\n",
      "jobType                 object\n",
      "degree                  object\n",
      "major                   object\n",
      "industry                object\n",
      "dtype: object,) \n",
      "yearsExperience\n",
      "                    yearsExperience                    \n",
      "                               mean    size   max   min\n",
      "yearsExperience_bin                                    \n",
      "0                          1.001715  120148   2.0   0.0\n",
      "1                          3.499040   80226   4.0   3.0\n",
      "2                          6.000283  120154   7.0   5.0\n",
      "3                          8.500728   80353   9.0   8.0\n",
      "4                         10.995270  119447  12.0  10.0\n",
      "5                         13.500007   79653  14.0  13.0\n",
      "6                         15.497263   80185  16.0  15.0\n",
      "7                         17.998234  120020  19.0  17.0\n",
      "8                         20.498564   79747  21.0  20.0\n",
      "9                         22.997276  120062  24.0  22.0\n",
      "milesFromMetropolis\n",
      "                        milesFromMetropolis                    \n",
      "                                       mean    size   max   min\n",
      "milesFromMetropolis_bin                                        \n",
      "0                                  4.480163   99989   9.0   0.0\n",
      "1                                 14.498260   99958  19.0  10.0\n",
      "2                                 24.510389   99579  29.0  20.0\n",
      "3                                 34.506729  100030  39.0  30.0\n",
      "4                                 44.499554   99885  49.0  40.0\n",
      "5                                 54.500584  100089  59.0  50.0\n",
      "6                                 64.490776  100423  69.0  60.0\n",
      "7                                 74.493767   99667  79.0  70.0\n",
      "8                                 84.494499   99695  89.0  80.0\n",
      "9                                 94.509018  100680  99.0  90.0\n",
      "  (OrderedDict([('yearsExperience', [-0.0001, 2.4, 4.8, 7.199999999999999, 9.6, 12.0, 14.399999999999999, 16.8, 19.2, 21.599999999999998, 24.0]), ('milesFromMetropolis', [-0.0001, 9.9, 19.8, 29.700000000000003, 39.6, 49.5, 59.400000000000006, 69.3, 79.2, 89.10000000000001, 99.0])]),) \n",
      "  (['yearsExperience_bin', 'milesFromMetropolis_bin'],) \n"
     ]
    }
   ],
   "source": [
    "### Train, save the model\n",
    "\"\"\"\n",
    "Data is provided in /data/input/train/\n",
    "\n",
    "\n",
    "\"\"\"\n",
    "\n",
    "! activate py36 && python source/run_train.py  run_train --model_name bayesian_pyro  --path_output /data/output/a01_bayesian2/  --n_sample 100 --path_data /data/input/train/ \n",
    "\n",
    "\n",
    "### Check run\n",
    "# ! python source/run_train.py  run_train --model_name bayesian_pyro  --path_output /data/output/a01_bayesian_test/  --n_sample 2000 --path_data /data/input/train/ \n",
    "\n",
    "\n",
    " \n",
    "\n"
   ]
  },
  {
   "cell_type": "code",
   "execution_count": null,
   "metadata": {},
   "outputs": [],
   "source": []
  },
  {
   "cell_type": "code",
   "execution_count": 55,
   "metadata": {},
   "outputs": [
    {
     "name": "stdout",
     "output_type": "stream",
     "text": [
      "{'metrics_test':                 metric_name  metric_val  n_sample\n",
      "0   root_mean_squared_error   19.868467     80000\n",
      "1       mean_absolute_error   16.069969     80000\n",
      "2  explained_variance_score    0.741302     80000\n",
      "3                  r2_score    0.737887     80000\n",
      "4     median_absolute_error   13.974678     80000}\n",
      "BayesianRegression(\n",
      "  (linear): PyroLinear(in_features=112, out_features=1, bias=True)\n",
      ")\n",
      "dict_keys(['pred_mean', 'pred_summary', 'pred_samples'])\n"
     ]
    }
   ],
   "source": [
    "#### Load trained model as Singleton Class\n",
    "from source.util_feature import load\n",
    "from source.models import model_bayesian_pyro as modelx\n",
    "model_tag =  \"a01_bayesian\"\n",
    "\n",
    "\n",
    "#### Load model\n",
    "dir_model = dir_data + f\"/output/{model_tag}/\"\n",
    "modelx.model = load( dir_model + \"/model/model.pkl\" ) \n",
    "stats  = load( dir_model + \"/model/info.pkl\" ) \n",
    "colsX  = load( dir_model + \"/model/colsX.pkl\"   )\n",
    "coly   = load( dir_model + \"/model/coly.pkl\"   )\n",
    "print(stats)\n",
    "print(modelx.model.model)\n",
    "print(modelx.model.pred_summary.keys() )\n",
    "\n",
    "pred_samples = modelx.model.pred_summary['pred_samples']\n",
    "\n"
   ]
  },
  {
   "cell_type": "code",
   "execution_count": 51,
   "metadata": {},
   "outputs": [
    {
     "name": "stdout",
     "output_type": "stream",
     "text": [
      "{'compute_pars': {'n_iter': 1200, 'learning_rate': 0.01}, 'metric_list': ['root_mean_squared_error', 'mean_absolute_error', 'explained_variance_score', 'r2_score', 'median_absolute_error'], 'max_size': 1000000}\n"
     ]
    }
   ],
   "source": [
    "print(modelx.model.compute_pars)\n",
    "\n",
    "\n"
   ]
  },
  {
   "cell_type": "code",
   "execution_count": 33,
   "metadata": {},
   "outputs": [
    {
     "data": {
      "text/html": [
       "<div>\n",
       "<style scoped>\n",
       "    .dataframe tbody tr th:only-of-type {\n",
       "        vertical-align: middle;\n",
       "    }\n",
       "\n",
       "    .dataframe tbody tr th {\n",
       "        vertical-align: top;\n",
       "    }\n",
       "\n",
       "    .dataframe thead th {\n",
       "        text-align: right;\n",
       "    }\n",
       "</style>\n",
       "<table border=\"1\" class=\"dataframe\">\n",
       "  <thead>\n",
       "    <tr style=\"text-align: right;\">\n",
       "      <th></th>\n",
       "      <th>metric_name</th>\n",
       "      <th>metric_val</th>\n",
       "      <th>n_sample</th>\n",
       "    </tr>\n",
       "  </thead>\n",
       "  <tbody>\n",
       "    <tr>\n",
       "      <th>0</th>\n",
       "      <td>root_mean_squared_error</td>\n",
       "      <td>19.868467</td>\n",
       "      <td>80000</td>\n",
       "    </tr>\n",
       "    <tr>\n",
       "      <th>1</th>\n",
       "      <td>mean_absolute_error</td>\n",
       "      <td>16.069969</td>\n",
       "      <td>80000</td>\n",
       "    </tr>\n",
       "    <tr>\n",
       "      <th>2</th>\n",
       "      <td>explained_variance_score</td>\n",
       "      <td>0.741302</td>\n",
       "      <td>80000</td>\n",
       "    </tr>\n",
       "    <tr>\n",
       "      <th>3</th>\n",
       "      <td>r2_score</td>\n",
       "      <td>0.737887</td>\n",
       "      <td>80000</td>\n",
       "    </tr>\n",
       "    <tr>\n",
       "      <th>4</th>\n",
       "      <td>median_absolute_error</td>\n",
       "      <td>13.974678</td>\n",
       "      <td>80000</td>\n",
       "    </tr>\n",
       "  </tbody>\n",
       "</table>\n",
       "</div>"
      ],
      "text/plain": [
       "                metric_name  metric_val  n_sample\n",
       "0   root_mean_squared_error   19.868467     80000\n",
       "1       mean_absolute_error   16.069969     80000\n",
       "2  explained_variance_score    0.741302     80000\n",
       "3                  r2_score    0.737887     80000\n",
       "4     median_absolute_error   13.974678     80000"
      ]
     },
     "execution_count": 33,
     "metadata": {},
     "output_type": "execute_result"
    }
   ],
   "source": [
    "### Metrics on test data\n",
    "stats['metrics_test']\n",
    "\n"
   ]
  },
  {
   "cell_type": "code",
   "execution_count": null,
   "metadata": {},
   "outputs": [],
   "source": [
    "\"\"\"\n",
    "Having K-Folds, Out of Samples statistics is better.\n",
    "However, we use 1-fold on test data.\n",
    "\n",
    "Model metrics show\n",
    "    Explained variance :  74%,  of \"Salary\" variance explained by the model\n",
    "    MAE  :   16.01,  Average of absolute diff between actual salary vs predicted salary\n",
    "\n",
    "\n",
    "Metrics are slightby below LightGBM one\n",
    "\n",
    "\"\"\""
   ]
  },
  {
   "cell_type": "code",
   "execution_count": 28,
   "metadata": {},
   "outputs": [
    {
     "name": "stdout",
     "output_type": "stream",
     "text": [
      "(8000, 285) (2000, 285)\n"
     ]
    }
   ],
   "source": [
    "#### Loading training data  ###############################################\n",
    "dfX = pd.read_parquet(dir_model + \"/check/dfX.parquet\")\n",
    "dfy =  dfX[coly]\n",
    "colused  = colsX\n",
    "\n",
    "dfXtest = pd.read_parquet(dir_model + \"/check/dfXtest.parquet\")\n",
    "dfytest =  dfXtest[coly]\n",
    "\n",
    "print(dfX.shape,  dfXtest.shape )\n",
    "\n"
   ]
  },
  {
   "cell_type": "raw",
   "metadata": {},
   "source": [
    "\n"
   ]
  },
  {
   "cell_type": "markdown",
   "metadata": {
    "heading_collapsed": true
   },
   "source": [
    "# Regression weight Distribution from samples"
   ]
  },
  {
   "cell_type": "code",
   "execution_count": null,
   "metadata": {},
   "outputs": [],
   "source": [
    "\"\"\"\n",
    "\n",
    "Bayesian model allows to plot the posterior distribution of the weights as well as the output.\n",
    "\n",
    "\"\"\""
   ]
  },
  {
   "cell_type": "code",
   "execution_count": null,
   "metadata": {},
   "outputs": [],
   "source": [
    "\n"
   ]
  },
  {
   "cell_type": "code",
   "execution_count": 56,
   "metadata": {},
   "outputs": [
    {
     "data": {
      "text/plain": [
       "{'linear.weight': tensor([[[[-0.2217, -0.2019, -0.1916,  ..., -0.1656, -0.2448, -0.1948]]],\n",
       " \n",
       " \n",
       "         [[[-0.2146, -0.2032, -0.1922,  ..., -0.1650, -0.2441, -0.1997]]],\n",
       " \n",
       " \n",
       "         [[[-0.2179, -0.2002, -0.1924,  ..., -0.1666, -0.2439, -0.1964]]],\n",
       " \n",
       " \n",
       "         ...,\n",
       " \n",
       " \n",
       "         [[[-0.2148, -0.2029, -0.1884,  ..., -0.1701, -0.2407, -0.1955]]],\n",
       " \n",
       " \n",
       "         [[[-0.2180, -0.2065, -0.1931,  ..., -0.1718, -0.2481, -0.1935]]],\n",
       " \n",
       " \n",
       "         [[[-0.2157, -0.2050, -0.1898,  ..., -0.1600, -0.2400, -0.1925]]]],\n",
       "        requires_grad=True),\n",
       " 'obs': tensor([[0.6015, 0.4785, 0.6341,  ..., 0.4554, 0.5086, 0.7507],\n",
       "         [0.6126, 0.5363, 0.5660,  ..., 0.4725, 0.6382, 0.8260],\n",
       "         [0.6520, 0.5158, 0.6648,  ..., 0.4059, 0.4206, 0.7696],\n",
       "         ...,\n",
       "         [0.5987, 0.5039, 0.5886,  ..., 0.4289, 0.4809, 0.5992],\n",
       "         [0.6459, 0.5698, 0.5404,  ..., 0.4411, 0.6005, 0.6736],\n",
       "         [0.5372, 0.5532, 0.5904,  ..., 0.4792, 0.4684, 0.7128]],\n",
       "        requires_grad=True),\n",
       " '_RETURN': tensor([[0.6072, 0.5236, 0.5674,  ..., 0.3977, 0.5322, 0.6899],\n",
       "         [0.6122, 0.5325, 0.5743,  ..., 0.4079, 0.5269, 0.6973],\n",
       "         [0.6092, 0.5249, 0.5722,  ..., 0.3938, 0.5140, 0.6979],\n",
       "         ...,\n",
       "         [0.5985, 0.5205, 0.5701,  ..., 0.3996, 0.5129, 0.6831],\n",
       "         [0.6164, 0.5269, 0.5829,  ..., 0.3972, 0.5275, 0.6911],\n",
       "         [0.6138, 0.5366, 0.5826,  ..., 0.4027, 0.5229, 0.6915]],\n",
       "        requires_grad=True)}"
      ]
     },
     "execution_count": 56,
     "metadata": {},
     "output_type": "execute_result"
    }
   ],
   "source": [
    "pred_samples"
   ]
  },
  {
   "cell_type": "code",
   "execution_count": null,
   "metadata": {},
   "outputs": [],
   "source": []
  },
  {
   "cell_type": "code",
   "execution_count": null,
   "metadata": {},
   "outputs": [],
   "source": [
    "\n"
   ]
  },
  {
   "cell_type": "code",
   "execution_count": 74,
   "metadata": {},
   "outputs": [
    {
     "data": {
      "text/plain": [
       "torch.Size([500])"
      ]
     },
     "execution_count": 74,
     "metadata": {},
     "output_type": "execute_result"
    }
   ],
   "source": [
    "weight = pred_samples[\"linear.weight\"]\n",
    "weight = weight.reshape(weight.shape[0], 112)\n",
    "weight[:,0].size()"
   ]
  },
  {
   "cell_type": "code",
   "execution_count": null,
   "metadata": {},
   "outputs": [],
   "source": []
  },
  {
   "cell_type": "code",
   "execution_count": 81,
   "metadata": {},
   "outputs": [
    {
     "data": {
      "image/png": "[encoded data removed]",
      "text/plain": [
       "<Figure size 432x288 with 1 Axes>"
      ]
     },
     "metadata": {
      "needs_background": "light"
     },
     "output_type": "display_data"
    },
    {
     "data": {
      "image/png": "[encoded data removed]",
      "text/plain": [
       "<Figure size 432x288 with 1 Axes>"
      ]
     },
     "metadata": {
      "needs_background": "light"
     },
     "output_type": "display_data"
    },
    {
     "data": {
      "image/png": "[encoded data removed]",
      "text/plain": [
       "<Figure size 432x288 with 1 Axes>"
      ]
     },
     "metadata": {
      "needs_background": "light"
     },
     "output_type": "display_data"
    },
    {
     "data": {
      "image/png": "[encoded data removed]",
      "text/plain": [
       "<Figure size 432x288 with 1 Axes>"
      ]
     },
     "metadata": {
      "needs_background": "light"
     },
     "output_type": "display_data"
    },
    {
     "data": {
      "image/png": "[encoded data removed]",
      "text/plain": [
       "<Figure size 432x288 with 1 Axes>"
      ]
     },
     "metadata": {
      "needs_background": "light"
     },
     "output_type": "display_data"
    },
    {
     "data": {
      "image/png": "[encoded data removed]",
      "text/plain": [
       "<Figure size 432x288 with 1 Axes>"
      ]
     },
     "metadata": {
      "needs_background": "light"
     },
     "output_type": "display_data"
    },
    {
     "data": {
      "image/png": "[encoded data removed]",
      "text/plain": [
       "<Figure size 432x288 with 1 Axes>"
      ]
     },
     "metadata": {
      "needs_background": "light"
     },
     "output_type": "display_data"
    },
    {
     "data": {
      "image/png": "[encoded data removed]",
      "text/plain": [
       "<Figure size 432x288 with 1 Axes>"
      ]
     },
     "metadata": {
      "needs_background": "light"
     },
     "output_type": "display_data"
    },
    {
     "data": {
      "image/png": "[encoded data removed]",
      "text/plain": [
       "<Figure size 432x288 with 1 Axes>"
      ]
     },
     "metadata": {
      "needs_background": "light"
     },
     "output_type": "display_data"
    },
    {
     "data": {
      "image/png": "[encoded data removed]",
      "text/plain": [
       "<Figure size 432x288 with 1 Axes>"
      ]
     },
     "metadata": {
      "needs_background": "light"
     },
     "output_type": "display_data"
    },
    {
     "data": {
      "image/png": "[encoded data removed]",
      "text/plain": [
       "<Figure size 432x288 with 1 Axes>"
      ]
     },
     "metadata": {
      "needs_background": "light"
     },
     "output_type": "display_data"
    },
    {
     "data": {
      "image/png": "[encoded data removed]",
      "text/plain": [
       "<Figure size 432x288 with 1 Axes>"
      ]
     },
     "metadata": {
      "needs_background": "light"
     },
     "output_type": "display_data"
    },
    {
     "data": {
      "image/png": "[encoded data removed]",
      "text/plain": [
       "<Figure size 432x288 with 1 Axes>"
      ]
     },
     "metadata": {
      "needs_background": "light"
     },
     "output_type": "display_data"
    },
    {
     "data": {
      "image/png": "[encoded data removed]",
      "text/plain": [
       "<Figure size 432x288 with 1 Axes>"
      ]
     },
     "metadata": {
      "needs_background": "light"
     },
     "output_type": "display_data"
    },
    {
     "data": {
      "image/png": "[encoded data removed]",
      "text/plain": [
       "<Figure size 432x288 with 1 Axes>"
      ]
     },
     "metadata": {
      "needs_background": "light"
     },
     "output_type": "display_data"
    }
   ],
   "source": [
    "ll = [\n",
    "  'jobType_CEO',\n",
    " 'jobType_CFO',\n",
    " 'jobType_SENIOR',\n",
    " 'jobType_VICE_PRESIDENT',\n",
    " 'degree_HIGH_SCHOOL',\n",
    " 'degree_MASTERS',\n",
    " 'major_LITERATURE',\n",
    " 'major_MATH',\n",
    " 'major_NONE',\n",
    " 'major_PHYSICS',\n",
    " 'industry_AUTO',\n",
    " 'industry_HEALTH',\n",
    " 'industry_OIL',\n",
    " 'industry_SERVICE',\n",
    " 'industry_WEB'   \n",
    "    \n",
    "]\n",
    "for ci in ll :\n",
    "    i0 = colsX.index(ci)\n",
    "    pd.DataFrame( weight[:,i0].detach().numpy(), columns= [ f\"Regression Coef Distribution for Factor : {ci} \" ]  ).hist()\n",
    "    \n",
    "    \n",
    "    \n",
    "    "
   ]
  },
  {
   "cell_type": "code",
   "execution_count": null,
   "metadata": {},
   "outputs": [],
   "source": []
  },
  {
   "cell_type": "code",
   "execution_count": null,
   "metadata": {},
   "outputs": [],
   "source": [
    "\n"
   ]
  },
  {
   "cell_type": "code",
   "execution_count": 110,
   "metadata": {},
   "outputs": [],
   "source": [
    "\n"
   ]
  },
  {
   "cell_type": "code",
   "execution_count": null,
   "metadata": {},
   "outputs": [],
   "source": []
  },
  {
   "cell_type": "code",
   "execution_count": 81,
   "metadata": {},
   "outputs": [],
   "source": [
    "\n",
    "\n",
    "\n"
   ]
  },
  {
   "cell_type": "code",
   "execution_count": null,
   "metadata": {},
   "outputs": [],
   "source": []
  }
 ],
 "metadata": {
  "hide_input": false,
  "kernelspec": {
   "display_name": "py36b",
   "language": "python",
   "name": "py36"
  },
  "language_info": {
   "codemirror_mode": {
    "name": "ipython",
    "version": 3
   },
   "file_extension": ".py",
   "mimetype": "text/x-python",
   "name": "python",
   "nbconvert_exporter": "python",
   "pygments_lexer": "ipython3",
   "version": "3.6.5"
  },
  "toc": {
   "base_numbering": 1,
   "nav_menu": {},
   "number_sections": true,
   "sideBar": true,
   "skip_h1_title": false,
   "title_cell": "Table of Contents",
   "title_sidebar": "Contents",
   "toc_cell": false,
   "toc_position": {},
   "toc_section_display": true,
   "toc_window_display": false
  },
  "varInspector": {
   "cols": {
    "lenName": 16,
    "lenType": 16,
    "lenVar": 40
   },
   "kernels_config": {
    "python": {
     "delete_cmd_postfix": "",
     "delete_cmd_prefix": "del ",
     "library": "var_list.py",
     "varRefreshCmd": "print(var_dic_list())"
    },
    "r": {
     "delete_cmd_postfix": ") ",
     "delete_cmd_prefix": "rm(",
     "library": "var_list.r",
     "varRefreshCmd": "cat(var_dic_list()) "
    }
   },
   "types_to_exclude": [
    "module",
    "function",
    "builtin_function_or_method",
    "instance",
    "_Feature"
   ],
   "window_display": false
  }
 },
 "nbformat": 4,
 "nbformat_minor": 4
}
