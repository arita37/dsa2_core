{
  "nbformat": 4,
  "nbformat_minor": 0,
  "metadata": {
    "colab": {
      "name": "predictions.ipynb",
      "version": "0.3.2",
      "provenance": [],
      "collapsed_sections": []
    },
    "kernelspec": {
      "display_name": "Python 3",
      "language": "python",
      "name": "python3"
    },
    "language_info": {
      "codemirror_mode": {
        "name": "ipython",
        "version": 3
      },
      "file_extension": ".py",
      "mimetype": "text/x-python",
      "name": "python",
      "nbconvert_exporter": "python",
      "pygments_lexer": "ipython3",
      "version": "3.6.1"
    }
  },
  "cells": [
    {
      "cell_type": "markdown",
      "metadata": {
        "id": "3uLKHly4YUxS",
        "colab_type": "text"
      },
      "source": [
        "To run this model directly in the browser with zero setup, open it in [Colab here](https://colab.research.google.com/github/sararob/keras-wine-model/blob/master/predictions.ipynb)."
      ]
    },
    {
      "cell_type": "code",
      "metadata": {
        "colab_type": "code",
        "id": "pq9A_C5IH0r8",
        "colab": {}
      },
      "source": [
        "from __future__ import absolute_import\n",
        "from __future__ import division\n",
        "from __future__ import print_function"
      ],
      "execution_count": 0,
      "outputs": []
    },
    {
      "cell_type": "code",
      "metadata": {
        "colab_type": "code",
        "id": "zc3JLt1WH0r-",
        "outputId": "673ce0d8-db52-44a7-b37e-dd81f9112b3c",
        "colab": {
          "base_uri": "https://localhost:8080/",
          "height": 34
        }
      },
      "source": [
        "import itertools\n",
        "import os\n",
        "import math\n",
        "import numpy as np\n",
        "import pandas as pd\n",
        "import tensorflow as tf\n",
        "import pickle\n",
        "\n",
        "from sklearn.preprocessing import LabelEncoder\n",
        "from tensorflow import keras\n",
        "layers = keras.layers\n",
        "\n",
        "# This code was tested with TensorFlow v1.7\n",
        "print(\"You have TensorFlow version\", tf.__version__)"
      ],
      "execution_count": 0,
      "outputs": [
        {
          "output_type": "stream",
          "text": [
            "You have TensorFlow version 1.7.0\n"
          ],
          "name": "stdout"
        }
      ]
    },
    {
      "cell_type": "code",
      "metadata": {
        "colab_type": "code",
        "id": "YVo-k3yMH0sC",
        "outputId": "765a9998-638c-4f6d-9329-237c311fedf8",
        "colab": {
          "base_uri": "https://localhost:8080/",
          "height": 204
        }
      },
      "source": [
        "# Load our model\n",
        "!wget 'https://storage.googleapis.com/keras_wine/final_wine_model.h5'\n",
        "model = keras.models.load_model('final_wine_model.h5')"
      ],
      "execution_count": 0,
      "outputs": [
        {
          "output_type": "stream",
          "text": [
            "--2018-05-09 18:32:50--  https://storage.googleapis.com/keras_wine/final_wine_model.h5\r\n",
            "Resolving storage.googleapis.com (storage.googleapis.com)... 74.125.197.128, 2607:f8b0:400e:c03::80\r\n",
            "Connecting to storage.googleapis.com (storage.googleapis.com)|74.125.197.128|:443... connected.\n",
            "HTTP request sent, awaiting response... 200 OK\n",
            "Length: 38208016 (36M) [application/octet-stream]\n",
            "Saving to: ‘final_wine_model.h5.2’\n",
            "\n",
            "final_wine_model.h5 100%[===================>]  36.44M   124MB/s    in 0.3s    \n",
            "\n",
            "2018-05-09 18:32:51 (124 MB/s) - ‘final_wine_model.h5.2’ saved [38208016/38208016]\n",
            "\n"
          ],
          "name": "stdout"
        }
      ]
    },
    {
      "cell_type": "code",
      "metadata": {
        "colab_type": "code",
        "id": "YtEuCyIbH0sE",
        "outputId": "40f2a305-aafc-4ea0-e8c9-c7dc745d36de",
        "colab": {
          "base_uri": "https://localhost:8080/",
          "height": 445
        }
      },
      "source": [
        "# Load our vocabulary tokenizer and variety encoder\n",
        "!wget 'https://storage.googleapis.com/keras_wine/word_tokenizer.p'\n",
        "tokenizer = pickle.load(open('word_tokenizer.p', 'rb'))\n",
        "\n",
        "!wget 'https://storage.googleapis.com/keras_wine/variety_encoder.p'\n",
        "encoder = pickle.load(open('variety_encoder.p', 'rb'))"
      ],
      "execution_count": 0,
      "outputs": [
        {
          "output_type": "stream",
          "text": [
            "--2018-05-09 18:32:53--  https://storage.googleapis.com/keras_wine/word_tokenizer.p\r\n",
            "Resolving storage.googleapis.com (storage.googleapis.com)... 74.125.197.128, 2607:f8b0:400e:c03::80\r\n",
            "Connecting to storage.googleapis.com (storage.googleapis.com)|74.125.197.128|:443... connected.\r\n",
            "HTTP request sent, awaiting response... 200 OK\r\n",
            "Length: 1235247 (1.2M) [application/octet-stream]\r\n",
            "Saving to: ‘word_tokenizer.p.2’\r\n",
            "\r\n",
            "\rword_tokenizer.p.2    0%[                    ]       0  --.-KB/s               \rword_tokenizer.p.2  100%[===================>]   1.18M  --.-KB/s    in 0.02s   \r\n",
            "\r\n",
            "2018-05-09 18:32:53 (66.0 MB/s) - ‘word_tokenizer.p.2’ saved [1235247/1235247]\r\n",
            "\n",
            "--2018-05-09 18:32:54--  https://storage.googleapis.com/keras_wine/variety_encoder.p\n",
            "Resolving storage.googleapis.com (storage.googleapis.com)... 74.125.197.128, 2607:f8b0:400e:c03::80\n",
            "Connecting to storage.googleapis.com (storage.googleapis.com)|74.125.197.128|:443... connected.\n",
            "HTTP request sent, awaiting response... 200 OK\n",
            "Length: 1029 (1.0K) [application/octet-stream]\n",
            "Saving to: ‘variety_encoder.p.1’\n",
            "\n",
            "variety_encoder.p.1 100%[===================>]   1.00K  --.-KB/s    in 0s      \n",
            "\n",
            "2018-05-09 18:32:54 (15.2 MB/s) - ‘variety_encoder.p.1’ saved [1029/1029]\n",
            "\n"
          ],
          "name": "stdout"
        },
        {
          "output_type": "stream",
          "text": [
            "/usr/local/lib/python3.6/dist-packages/sklearn/base.py:311: UserWarning: Trying to unpickle estimator LabelEncoder from version 0.18.2 when using version 0.19.1. This might lead to breaking code or invalid results. Use at your own risk.\n",
            "  UserWarning)\n"
          ],
          "name": "stderr"
        }
      ]
    },
    {
      "cell_type": "code",
      "metadata": {
        "colab_type": "code",
        "id": "6iTvpi18H0sG",
        "colab": {}
      },
      "source": [
        "# Let's make predictions on some raw data\n",
        "\n",
        "# Enter wine descriptions here\n",
        "test_descriptions = [\n",
        "    'From 18-year-old vines, this supple well-balanced effort blends flavors of mocha, cherry, vanilla and breakfast tea. Superbly integrated and delicious even at this early stage, this wine seems destined for a long and savory cellar life. Drink now through 2028.',\n",
        "    'The Quarts de Chaume, the four fingers of land that rise above the Layon Valley, are one of the pinnacles of sweet wines in the Loire. Showing botrytis and layers of dryness over the honey and peach jelly flavors, but also has great freshness. The aftertaste just lasts.',\n",
        "    'Nicely oaked blackberry, licorice, vanilla and charred aromas are smooth and sultry. This is an outstanding wine from an excellent year. Forward barrel-spice and mocha flavors adorn core blackberry and raspberry fruit, while this runs long and tastes vaguely chocolaty on the velvety finish. Enjoy this top-notch Tempranillo through 2030.',\n",
        "    'Bright, light oak shadings dress up this medium-bodied wine, complementing the red cherry and strawberry flavors. Its fresh, fruity and not very tannic—easy to drink and enjoy.',\n",
        "    'This wine features black cherry, blackberry, blueberry with aromas of black licorice and earth. Ending with a creamy vanilla finish.'\n",
        "]\n",
        "\n",
        "# Enter the corresponding varieties here\n",
        "test_varieties = [\n",
        "    'Pinot Noir',\n",
        "    'Chenin Blanc',\n",
        "    'Tempranillo',\n",
        "    'Sauvignon Blanc',\n",
        "    'Syrah'\n",
        "]\n",
        "\n",
        "# Enter the corresponding prices here\n",
        "labels = [\n",
        "    48,\n",
        "    152,\n",
        "    80,\n",
        "    10,\n",
        "    23\n",
        "]"
      ],
      "execution_count": 0,
      "outputs": []
    },
    {
      "cell_type": "code",
      "metadata": {
        "colab_type": "code",
        "id": "4igkpWyWH0sI",
        "outputId": "d51f84f8-b592-4c15-b17b-5da4e2b16fdb",
        "colab": {
          "base_uri": "https://localhost:8080/",
          "height": 292
        }
      },
      "source": [
        "# Vocab and variety lookup\n",
        "vocab_lookup = tokenizer.word_index\n",
        "first_20_words = {k: vocab_lookup[k] for k in list(vocab_lookup)[:20]}\n",
        "print(\"Sample vocab\\n\", first_20_words, \"\\n\")\n",
        "print(\"Variety encoder\\n\", encoder.classes_, \"\\n\")"
      ],
      "execution_count": 0,
      "outputs": [
        {
          "output_type": "stream",
          "text": [
            "Sample vocab\n",
            " {'and': 1, 'the': 2, 'a': 3, 'of': 4, 'with': 5, 'this': 6, 'is': 7, 'flavors': 8, 'wine': 9, 'in': 10, 'to': 11, 'it': 12, 'fruit': 13, 'but': 14, 'on': 15, 'that': 16, \"it's\": 17, 'finish': 18, 'cherry': 19, 'aromas': 20} \n",
            "\n",
            "Variety encoder\n",
            " ['Albariño' 'Barbera' 'Bordeaux-style Red Blend'\n",
            " 'Bordeaux-style White Blend' 'Cabernet Franc' 'Cabernet Sauvignon'\n",
            " 'Carmenère' 'Champagne Blend' 'Chardonnay' 'Chenin Blanc'\n",
            " 'Corvina, Rondinella, Molinara' 'Gewürztraminer' 'Grenache'\n",
            " 'Grüner Veltliner' 'Malbec' 'Merlot' 'Nebbiolo' 'Petite Sirah'\n",
            " 'Pinot Grigio' 'Pinot Gris' 'Pinot Noir' 'Port' 'Portuguese Red'\n",
            " 'Portuguese White' 'Prosecco' 'Red Blend' 'Rhône-style Red Blend'\n",
            " 'Riesling' 'Rosé' 'Sangiovese' 'Sangiovese Grosso' 'Sauvignon Blanc'\n",
            " 'Shiraz' 'Sparkling Blend' 'Syrah' 'Tempranillo' 'Tempranillo Blend'\n",
            " 'Viognier' 'White Blend' 'Zinfandel'] \n",
            "\n"
          ],
          "name": "stdout"
        }
      ]
    },
    {
      "cell_type": "code",
      "metadata": {
        "colab_type": "code",
        "id": "v5DNE1fWH0sM",
        "outputId": "62a25fe3-d92b-490b-aa86-638f73006df7",
        "colab": {
          "base_uri": "https://localhost:8080/",
          "height": 136
        }
      },
      "source": [
        "# Wide model features\n",
        "bow_description = tokenizer.texts_to_matrix(test_descriptions)\n",
        "variety = encoder.transform(test_varieties)\n",
        "variety = keras.utils.to_categorical(variety, len(encoder.classes_))\n",
        "\n",
        "# Print an example for the model inputs\n",
        "print(\"Bag of words matrix\")\n",
        "print(bow_description[0], \"\\n\")\n",
        "print(\"Variety matrix\")\n",
        "print(variety[0], \"\\n\")"
      ],
      "execution_count": 0,
      "outputs": [
        {
          "output_type": "stream",
          "text": [
            "Bag of words matrix\n",
            "[0. 1. 0. ... 0. 0. 0.] \n",
            "\n",
            "Variety matrix\n",
            "[0. 0. 0. 0. 0. 0. 0. 0. 0. 0. 0. 0. 0. 0. 0. 0. 0. 0. 0. 0. 1. 0. 0. 0.\n",
            " 0. 0. 0. 0. 0. 0. 0. 0. 0. 0. 0. 0. 0. 0. 0. 0.] \n",
            "\n"
          ],
          "name": "stdout"
        }
      ]
    },
    {
      "cell_type": "code",
      "metadata": {
        "colab_type": "code",
        "id": "jqpc4NACH0sO",
        "outputId": "d87d74ea-0435-4fbb-be07-9a9befb774bb",
        "colab": {
          "base_uri": "https://localhost:8080/",
          "height": 238
        }
      },
      "source": [
        "# Deep model feature: word embeddings of wine descriptions\n",
        "embed_description = tokenizer.texts_to_sequences(test_descriptions)\n",
        "embed_description = keras.preprocessing.sequence.pad_sequences(\n",
        "    embed_description, maxlen=170, padding=\"post\")\n",
        "\n",
        "print(embed_description[0])"
      ],
      "execution_count": 0,
      "outputs": [
        {
          "output_type": "stream",
          "text": [
            "[  25 1475  284  347  504    6  344   55   85  552 1007    8    4  226\n",
            "   19   52    1 3614  360 2997  476    1  150  232   60    6  887  871\n",
            "    6    9  218 4282   21    3   86    1  245  318 1282   32   39   80\n",
            " 7083    0    0    0    0    0    0    0    0    0    0    0    0    0\n",
            "    0    0    0    0    0    0    0    0    0    0    0    0    0    0\n",
            "    0    0    0    0    0    0    0    0    0    0    0    0    0    0\n",
            "    0    0    0    0    0    0    0    0    0    0    0    0    0    0\n",
            "    0    0    0    0    0    0    0    0    0    0    0    0    0    0\n",
            "    0    0    0    0    0    0    0    0    0    0    0    0    0    0\n",
            "    0    0    0    0    0    0    0    0    0    0    0    0    0    0\n",
            "    0    0    0    0    0    0    0    0    0    0    0    0    0    0\n",
            "    0    0    0    0    0    0    0    0    0    0    0    0    0    0\n",
            "    0    0]\n"
          ],
          "name": "stdout"
        }
      ]
    },
    {
      "cell_type": "code",
      "metadata": {
        "colab_type": "code",
        "id": "UGIFAJoNH0sQ",
        "colab": {}
      },
      "source": [
        "predictions = model.predict([bow_description, variety] + [embed_description])"
      ],
      "execution_count": 0,
      "outputs": []
    },
    {
      "cell_type": "code",
      "metadata": {
        "colab_type": "code",
        "id": "csv2NgmZH0sS",
        "outputId": "6e3e371b-bf03-4fb2-a1db-363a0c21d5e1",
        "colab": {
          "base_uri": "https://localhost:8080/",
          "height": 292
        }
      },
      "source": [
        "for i in range(len(test_descriptions)):\n",
        "    val = predictions[i]\n",
        "    print(test_descriptions[i])\n",
        "    print('Predicted: ', val[0], 'Actual: ', labels[i], '\\n')"
      ],
      "execution_count": 0,
      "outputs": [
        {
          "output_type": "stream",
          "text": [
            "From 18-year-old vines, this supple well-balanced effort blends flavors of mocha, cherry, vanilla and breakfast tea. Superbly integrated and delicious even at this early stage, this wine seems destined for a long and savory cellar life. Drink now through 2028.\n",
            "Predicted:  46.476532 Actual:  48 \n",
            "\n",
            "The Quarts de Chaume, the four fingers of land that rise above the Layon Valley, are one of the pinnacles of sweet wines in the Loire. Showing botrytis and layers of dryness over the honey and peach jelly flavors, but also has great freshness. The aftertaste just lasts.\n",
            "Predicted:  117.74728 Actual:  152 \n",
            "\n",
            "Nicely oaked blackberry, licorice, vanilla and charred aromas are smooth and sultry. This is an outstanding wine from an excellent year. Forward barrel-spice and mocha flavors adorn core blackberry and raspberry fruit, while this runs long and tastes vaguely chocolaty on the velvety finish. Enjoy this top-notch Tempranillo through 2030.\n",
            "Predicted:  90.468124 Actual:  80 \n",
            "\n",
            "Bright, light oak shadings dress up this medium-bodied wine, complementing the red cherry and strawberry flavors. Its fresh, fruity and not very tannic—easy to drink and enjoy.\n",
            "Predicted:  9.867294 Actual:  10 \n",
            "\n",
            "This wine features black cherry, blackberry, blueberry with aromas of black licorice and earth. Ending with a creamy vanilla finish.\n",
            "Predicted:  26.843208 Actual:  23 \n",
            "\n"
          ],
          "name": "stdout"
        }
      ]
    },
    {
      "cell_type": "code",
      "metadata": {
        "colab_type": "code",
        "id": "cA76-j2IH0sV",
        "colab": {}
      },
      "source": [
        ""
      ],
      "execution_count": 0,
      "outputs": []
    }
  ]
}