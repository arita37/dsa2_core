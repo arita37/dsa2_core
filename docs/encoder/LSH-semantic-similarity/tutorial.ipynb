{
 "cells": [
  {
   "cell_type": "code",
   "execution_count": 17,
   "metadata": {},
   "outputs": [],
   "source": [
    "from random import randint\n",
    "from LSH import LSH\n",
    "from TFIDF import TFIDF"
   ]
  },
  {
   "cell_type": "code",
   "execution_count": 20,
   "metadata": {},
   "outputs": [],
   "source": [
    "texto0 = \"\"\"\n",
    "Who was the first king of Poland\n",
    "\"\"\".replace('\\n', ' ')\n",
    "\n",
    "texto1 = \"\"\"\n",
    "Who was the first ruler of Poland\n",
    "\"\"\".replace('\\n', ' ')\n",
    "\n",
    "texto2 = \"\"\"\n",
    "Who was the last pharaoh of Egypt\n",
    "\"\"\".replace('\\n', ' ')\n",
    "\n",
    "textos = [texto0, texto1, texto2]"
   ]
  },
  {
   "cell_type": "code",
   "execution_count": 24,
   "metadata": {},
   "outputs": [
    {
     "name": "stdout",
     "output_type": "stream",
     "text": [
      "walk\nwalk\nwalk\nlone\nwent\n"
     ]
    }
   ],
   "source": [
    "from nltk.stem import PorterStemmer\n",
    "porter = PorterStemmer()\n",
    "\n",
    "for word in ['walking', 'walks', 'walked', 'lonely','went']:\n",
    "    print(porter.stem(word))"
   ]
  },
  {
   "cell_type": "code",
   "execution_count": 23,
   "metadata": {},
   "outputs": [
    {
     "name": "stdout",
     "output_type": "stream",
     "text": [
      "walking\nwalk\nwalked\nwent\n"
     ]
    }
   ],
   "source": [
    "from nltk.stem import WordNetLemmatizer\n",
    "wnl = WordNetLemmatizer()\n",
    "\n",
    "for word in ['walking', 'walks', 'walked','went']:\n",
    "    print(wnl.lemmatize(word))"
   ]
  },
  {
   "cell_type": "code",
   "execution_count": 26,
   "metadata": {
    "collapsed": false
   },
   "outputs": [
    {
     "name": "stdout",
     "output_type": "stream",
     "text": [
      "[' Who was the first king of Poland ', ' Who was the first ruler of Poland ', ' Who was the last pharaoh of Egypt ']\n"
     ]
    }
   ],
   "source": [
    "print(textos)"
   ]
  },
  {
   "cell_type": "code",
   "execution_count": 28,
   "metadata": {},
   "outputs": [
    {
     "name": "stdout",
     "output_type": "stream",
     "text": [
      "[nltk_data] Downloading package rslp to /Users/avinash/nltk_data...\n[nltk_data]   Package rslp is already up-to-date!\n"
     ]
    }
   ],
   "source": [
    "lsh = LSH()\n",
    "similarity = lsh.get_similarity(textos, 'en')"
   ]
  },
  {
   "cell_type": "markdown",
   "metadata": {},
   "source": [
    "The final result is a list of lists. The similarity between texts can be found accessing this result by texts indexes. For examples, the sim between text0 and text1 is result[text0_index][text1_index], where text0_index is the index of text0 in the input list and text1_index is the index of text1 in the input list.   \n",
    "So sim between text0 and text1 is result[0][1]."
   ]
  },
  {
   "cell_type": "markdown",
   "metadata": {},
   "source": [
    "Printing the result:"
   ]
  },
  {
   "cell_type": "code",
   "execution_count": 29,
   "metadata": {},
   "outputs": [
    {
     "data": {
      "text/plain": [
       "[['--', 0.58, 0.12], ['--', '--', 0.12], ['--', '--', '--']]"
      ]
     },
     "execution_count": 29,
     "metadata": {},
     "output_type": "execute_result"
    }
   ],
   "source": [
    "similarity"
   ]
  },
  {
   "cell_type": "markdown",
   "metadata": {},
   "source": [
    "Printing in a more legible way:"
   ]
  },
  {
   "cell_type": "code",
   "execution_count": 30,
   "metadata": {},
   "outputs": [
    {
     "name": "stdout",
     "output_type": "stream",
     "text": [
      "        text0  text1  text2\n        -----  -----  -----\ntext0 |        0.58   0.12\ntext1 |               0.12\ntext2 |                   \n"
     ]
    }
   ],
   "source": [
    "def format_sim(sim):\n",
    "    if type(sim) == float:\n",
    "        formated_sim = \"{:.2f}\".format(sim)\n",
    "    elif type(sim) == str:\n",
    "        formated_sim = '    '\n",
    "    return formated_sim\n",
    "\n",
    "col_names = [\"text\" + str(i) for i in range(len(textos)) ]\n",
    "col_names = \"  \".join(col_names)\n",
    "print(\"       \", col_names)\n",
    "\n",
    "divisors = [\"-----\" for i in range(len(textos)) ]\n",
    "divisors = \"  \".join(divisors)\n",
    "print(\"       \", divisors)\n",
    "\n",
    "for i, row in enumerate(similarity):\n",
    "    row_name = \"text\" + str(i)\n",
    "    formated_sims = list(map(format_sim, row))\n",
    "    row = \"   \".join(formated_sims)\n",
    "    print(row_name, \"|\", row)"
   ]
  },
  {
   "cell_type": "code",
   "execution_count": null,
   "metadata": {},
   "outputs": [],
   "source": []
  }
 ],
 "metadata": {
  "kernelspec": {
   "display_name": "Python 3",
   "language": "python",
   "name": "python3"
  },
  "language_info": {
   "codemirror_mode": {
    "name": "ipython",
    "version": 3
   },
   "file_extension": ".py",
   "mimetype": "text/x-python",
   "name": "python",
   "nbconvert_exporter": "python",
   "pygments_lexer": "ipython3",
   "version": "3.5.2"
  }
 },
 "nbformat": 4,
 "nbformat_minor": 2
}
